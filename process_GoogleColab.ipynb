{
  "cells": [
    {
      "cell_type": "markdown",
      "metadata": {
        "id": "bP9XtfYylvAj"
      },
      "source": [
        "# **Investigating Serial Cost-Sharing Taxation Policies in Emission Regulation**\n",
        "\n",
        "> _This Google Colab notebook investigates the efficacy of serial cost-sharing taxation policies in regulating emission levels from petroleum industry production. By utilizing an innovative heterogeneous-agent reinforcement learning (HARL) model, this study identifies key factors influencing firms’ economic viability while achieving environmental targets._\n",
        ">\n",
        ">\n",
        "> _**Setup instructions**: follow the steps below to prepare the environment, train the model, and inspect the results._\n"
      ]
    },
    {
      "cell_type": "markdown",
      "metadata": {
        "id": "K-kryK4LtuMT"
      },
      "source": [
        "## 1. Prepare the Project\n",
        "\n",
        "Firstly, we prepare the project environment using an automated process.\n",
        "\n",
        "**Notes**: The `prepare_project.py` script ensures that all necessary dependencies and configurations are set up correctly based on the available hardware (CPU or GPU).\n",
        "- The setup adapts based on whether we have selected the GPU or CPU cores for our training. In Google Colab, this can be done through \"Change runtime type\".\n",
        "- If this notebook is executed in Google Colab, we will also clone the project repository from GitHub.\n",
        "- On the other hand, if GPU is used, the necessary version of PyTorch GPU support with CUDA 11.8 will be fully installed."
      ]
    },
    {
      "cell_type": "code",
      "execution_count": null,
      "metadata": {
        "id": "bqcGO5NBfi9Y"
      },
      "outputs": [],
      "source": [
        "import os\n",
        "\n",
        "\n",
        "# Remove all files and folders in the current directory\n",
        "!rm -rf *  # remove all files and folders\n",
        "\n",
        "# Clone the repository\n",
        "!git clone https://github.com/2HO4/CostSharing_HARL.git\n",
        "%cd CostSharing_HARL\n",
        "\n",
        "# Prepare the project\n",
        "if not os.environ[\"COLAB_GPU\"]:\n",
        "    !python utilities/prepare_project.py  # for CPU cores\n",
        "else:\n",
        "    !python utilities/prepare_project.py --gpu --fix_nv  # for T4 GPU cores\n"
      ]
    },
    {
      "cell_type": "markdown",
      "metadata": {
        "id": "zCKQN_JqzB5y"
      },
      "source": [
        "## 2. Train the HARL Model\n",
        "\n",
        "Here, we train an example of a model using a custom HAPPO algorithm on a custom cost-sharing environment with 4 heterogeneous firms.\n",
        "\n",
        "**Notes**: The `train.py` script handles the training and rendering of the model based on the specified algorithm and environment configurations.\n",
        "- The configurations for the algorithm and environment are specified in `resources/configs/algorithm.yaml` and `resources/configs/environment.yaml`, respectively."
      ]
    },
    {
      "cell_type": "code",
      "execution_count": null,
      "metadata": {
        "id": "ZCKgl786ZDTW"
      },
      "outputs": [],
      "source": [
        "!python train.py --env custom --algo custom --exp_name oligopoly_firms4"
      ]
    },
    {
      "cell_type": "markdown",
      "metadata": {
        "id": "IshOcFPIyTyn"
      },
      "source": [
        "## 3. Inspect the Results\n",
        "\n",
        "We now examine how the model currently performs after a certain amount of training. Ensure that the model directory is not empty before running this cell.\n",
        "\n",
        "**Note**: Ensure to replace <DATE> with the appropriate date directory in Cell 3 when running the inspection cell."
      ]
    },
    {
      "cell_type": "code",
      "execution_count": null,
      "metadata": {
        "id": "Y4CjU8V0yAGX"
      },
      "outputs": [],
      "source": [
        "# Inspect the ongoing result of the current model. Make sure the model directory is not empty\n",
        "!python train.py --algo custom --env custom --exp_name oligopoly_firms4 --use_render True --model_dir results/cost_sharing/cost_sharing/happo/oligopoly_firms4/seed-<DATE>/models\n"
      ]
    }
  ],
  "metadata": {
    "accelerator": "GPU",
    "colab": {
      "gpuType": "T4",
      "provenance": []
    },
    "kernelspec": {
      "display_name": "Python 3",
      "name": "python3"
    },
    "language_info": {
      "name": "python"
    }
  },
  "nbformat": 4,
  "nbformat_minor": 0
}
